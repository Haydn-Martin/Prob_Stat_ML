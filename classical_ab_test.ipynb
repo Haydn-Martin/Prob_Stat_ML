{
 "cells": [
  {
   "cell_type": "markdown",
   "id": "8f875011",
   "metadata": {
    "heading_collapsed": true
   },
   "source": [
    "### Background"
   ]
  },
  {
   "cell_type": "markdown",
   "id": "331baa45",
   "metadata": {
    "hidden": true
   },
   "source": [
    "Let's say we have an investing app (INVESTING, not trading) called LittleJohn. Things are going well - we're getting customers, people are using the app...people are investing!\n",
    "\n",
    "However, the board want more. \n",
    "\n",
    "One major problem that has been identified is some problems with the conversion funnel:\n",
    "\n",
    "                            \\    Registrations    /\n",
    "                             \\   Deposit money   /\n",
    "                              \\     Invest      /\n",
    "                               \\ Invest again  / \n",
    "\n",
    "Plenty of people and registering. When people actually deposit money, they are investing money and using the app regularly. The problem is getting users to deposit money after they've actually registered. The PM suggests changing the design of the deposit money page. They think that changing the size and colour of the button that connects an external account will increase conversions. But you're not so sure. How can we test this? Enter the A/B test.\n",
    "\n",
    "You assign users randomly to visit either version A (with changed button) or version B (the original) of your app and after 2 weeks, collect the results.\n",
    "\n",
    "1,837 registered users saw version A and of those 567 deposited money.\n",
    "1,739 registered users saw version B and of those 421 deposited money.\n",
    "\n",
    "Is this result statistically significant?"
   ]
  },
  {
   "cell_type": "markdown",
   "id": "a2e442ea",
   "metadata": {},
   "source": [
    "### Maths"
   ]
  },
  {
   "cell_type": "markdown",
   "id": "58b9cc62",
   "metadata": {},
   "source": [
    "Each user (trial) is distributed as a Bernoulli with binary outcome either success or failure:\n",
    "\n",
    "E[X] = p <br>\n",
    "Var(X) = p(1-p)\n",
    "\n",
    "Where p is the probability of success on that trial.\n",
    "\n",
    "According to the central limit theorum, the mean of a collection of RVs will be normally distributed with:\n",
    "\n",
    "$\\mu_X$ = (E[X1] + E[X2] + ... + E[Xn]) / n = np/n = p <br>\n",
    "$\\sigma_X$ = $\\sigma$ / $\\sqrt{n}$ = $\\sqrt{p(1-p)}$ / $\\sqrt{n}$\n",
    "\n",
    "Our null hypothesis is that $\\mu$ for both versions is the same: $d_H$ = $p_A$ - $p_B$ = 0 with the alternative hypothesis being that $d_H$ is statisticlly significantly different from 0. <br>\n",
    "We now need the standard deviation of $d_H$:\n",
    "\n",
    "Var($d_H$) = Var($p_A$ - $p_B$) = ${\\sigma_A}^2$ + ${\\sigma_A}^2$"
   ]
  },
  {
   "cell_type": "code",
   "execution_count": 1,
   "id": "3d838204",
   "metadata": {},
   "outputs": [],
   "source": [
    "import numpy as np\n",
    "import pandas as pd\n",
    "import nbimporter\n",
    "import math as mt\n",
    "from Some_Distributions import normal"
   ]
  },
  {
   "cell_type": "code",
   "execution_count": 2,
   "id": "9457823c",
   "metadata": {},
   "outputs": [
    {
     "data": {
      "text/plain": [
       "<Some_Distributions.normal at 0x11c862a30>"
      ]
     },
     "execution_count": 2,
     "metadata": {},
     "output_type": "execute_result"
    }
   ],
   "source": [
    "normal(3, 2)"
   ]
  },
  {
   "cell_type": "code",
   "execution_count": 46,
   "id": "28048631",
   "metadata": {},
   "outputs": [],
   "source": [
    "class AB_vars:\n",
    "    \n",
    "    def __init__(self, sample, conv):\n",
    "        self.sample = sample\n",
    "        self.conv = conv\n",
    "        self.convp = conv / sample\n",
    "    \n",
    "    def exp_ber(self):\n",
    "        return self.convp\n",
    "    \n",
    "    def var_ber(self):\n",
    "        return self.convp * (1 - self.convp)\n",
    "        \n",
    "    def mew_bi(self):\n",
    "        return self.exp_ber\n",
    "    \n",
    "    def sigma_bi(self):\n",
    "        return (self.var_ber()**(1/2)) / (self.sample**(1/2))\n",
    "    \n",
    "class AB_test:\n",
    "    \n",
    "    def __init__(self, A, B):\n",
    "        self.A = A\n",
    "        self.B = B\n",
    "        self.sig_lev = [0.9, 0.95, 0.99]\n",
    "        self.z_lev = [1.65, 1.96, 2.58]\n",
    "        \n",
    "    def mew_d_H(self):\n",
    "        return self.A.convp - self.B.convp\n",
    "    \n",
    "    def sigma_d_H(self):\n",
    "        return (self.A.sigma_bi()**2 + self.B.sigma_bi()**2)**(1/2)\n",
    "    \n",
    "    def sig_d_H(self):\n",
    "        \n",
    "        for i in range(3):\n",
    "            if self.mew_d_H() < self.z_lev[i]*self.sigma_d_H():\n",
    "                print(f'Significant at the {self.sig_lev[i]} level.')"
   ]
  },
  {
   "cell_type": "code",
   "execution_count": 47,
   "id": "a4debb25",
   "metadata": {},
   "outputs": [],
   "source": [
    "AB = AB_test(AB_vars(1000, 500), AB_vars(1000, 456))"
   ]
  },
  {
   "cell_type": "code",
   "execution_count": 48,
   "id": "a84eed45",
   "metadata": {},
   "outputs": [
    {
     "name": "stdout",
     "output_type": "stream",
     "text": [
      "Significant at the 0.99 level.\n"
     ]
    }
   ],
   "source": [
    "AB.sig_d_H()"
   ]
  }
 ],
 "metadata": {
  "kernelspec": {
   "display_name": "Python 3",
   "language": "python",
   "name": "python3"
  },
  "language_info": {
   "codemirror_mode": {
    "name": "ipython",
    "version": 3
   },
   "file_extension": ".py",
   "mimetype": "text/x-python",
   "name": "python",
   "nbconvert_exporter": "python",
   "pygments_lexer": "ipython3",
   "version": "3.9.5"
  },
  "varInspector": {
   "cols": {
    "lenName": 16,
    "lenType": 16,
    "lenVar": 40
   },
   "kernels_config": {
    "python": {
     "delete_cmd_postfix": "",
     "delete_cmd_prefix": "del ",
     "library": "var_list.py",
     "varRefreshCmd": "print(var_dic_list())"
    },
    "r": {
     "delete_cmd_postfix": ") ",
     "delete_cmd_prefix": "rm(",
     "library": "var_list.r",
     "varRefreshCmd": "cat(var_dic_list()) "
    }
   },
   "types_to_exclude": [
    "module",
    "function",
    "builtin_function_or_method",
    "instance",
    "_Feature"
   ],
   "window_display": false
  }
 },
 "nbformat": 4,
 "nbformat_minor": 5
}
